{
 "cells": [
  {
   "cell_type": "code",
   "execution_count": 3,
   "metadata": {},
   "outputs": [],
   "source": [
    "import pandas as pd\n",
    "from pandas_datareader import data as wb\n",
    "\n",
    "df = wb.DataReader([\"VALE3.SA\", \"PETR4.SA\", \"VVAR3.SA\", \"RAIL3.SA\",\n",
    "                   \"MGLU3.SA\", \"LAME4.SA\", \"JHSF3.SA\", \"JBSS3.SA\",\n",
    "                   \"ENGI11.SA\", \"DIRR3.SA\", \"CCRO3.SA\", \"BEEF3.SA\",\n",
    "                   \"BBDC4.SA\"], \n",
    "                   data_source='yahoo', start='1-1-2015')\n",
    "df = df[\"Adj Close\"]"
   ]
  },
  {
   "cell_type": "code",
   "execution_count": 4,
   "metadata": {},
   "outputs": [],
   "source": [
    "x = wb.DataReader([\"ITUB4.SA\"], data_source='yahoo', start='1-1-2015')\n",
    "x = x[\"Adj Close\"]\n"
   ]
  },
  {
   "cell_type": "markdown",
   "metadata": {},
   "source": [
    "## Projection Pricing \n",
    "* Nesse notebook serão implementados as formas de precificação apresentadas por Luenberger no seu Paper \"Projection Pricing\".\n",
    "\n",
    "Resumo: Um problema em finanças é a precificar ativos os quais não são combinações lineares de ativos já precificados. \n",
    "No artigo, Luenberger ataca esse problema de forma geométrica. O preço pelo qual se vende um ativo é visto como um vetor ($y_k$) em um Espaço de Hilbert ($H$). Os ativos já precificados formam um subespaço vetorial ($M \\subset H$), no qual é definido um funcional linear ($f:M\\rightarrow\\mathbb{R}$) que precifica o ativo (preço pelo qual se compra).\n",
    "\n",
    "Exemplificando: \n",
    "<center>   \n",
    "    $M = span\\{y_1, y_2, y_3, ..., y_n\\}$\n",
    "</center> \n",
    "Onde M são os ativos já comercializados. \n",
    "\n",
    "Se $x \\in M$: \n",
    "<center>\n",
    "    $x = \\omega_1 y_1+\\omega_2 y_2+...+\\omega_n y_n$\n",
    "</center>\n",
    "Logo, o preço de $x$ será: \n",
    "<center>\n",
    "    $f(x) = \\omega_1 p_1+\\omega_2 p_2+...+\\omega_n p_n$ \n",
    "</center>\n",
    "O produto interno defindo em $H$ é:\n",
    "<center>\n",
    "    $(x|y) = \\mathbb{E}[xy] = cov(x, y)+\\mathbb{E}[x]\\mathbb{E}[y] $ \n",
    "</center>\n",
    "\n",
    "Serão implementados, em ordem, \n",
    "\n",
    "1. [ ] Standard Projection\n",
    "    * [ ] Orthogonal Extension \n",
    "    * [ ] Covariance Form \n",
    "    * [ ] Minimum Norm Pricing \n",
    "2. [ ] Minimum  Norm Formulation \n",
    "3. [ ] Optimal Portfolio Formulation\n",
    "\n",
    "\n",
    "                                \n"
   ]
  },
  {
   "cell_type": "markdown",
   "metadata": {},
   "source": [
    "## Standard Projection\n",
    "Essa é a forma mais básica e intuitiva. Seja $x\\in H$ um ativo que está fora de $M$. A ideia é de projetar $x$ para $M$ e o seu preço será igual ao da projeção. Se $m_x = \\omega_1 y_1+\\omega_2 y_2+...+\\omega_n y_n = \\omega^Ty$ é a projeção, $x- m_x$ deverá ser perpendicular a M, logo: \n",
    "\n",
    "<center>\n",
    "    $(x-m_x|y_k) = 0$ para todo k.\n",
    "</center>\n",
    "\n",
    "Matricialmente teremos: \n",
    "<center>\n",
    "   $\\begin{bmatrix}\n",
    "    (y_1|y_1) & (y_1|y_2) & \\cdots & (y_1|y_n)\\\\\n",
    "    (y_2|y_1) & (y_2|y_2) & \\cdots & (y_1|y_n)\\\\\n",
    "    \\vdots    &   \\vdots  & \\ddots & \\vdots \\\\\n",
    "    (y_n|y_1) & (y_n|y_2) & \\cdots & (y_n|y_n)\\\\\n",
    "    \\end{bmatrix}$\n",
    "    $\\begin{bmatrix}\n",
    "    \\omega_1\\\\\n",
    "    \\omega_2\\\\\n",
    "    \\vdots\\\\\n",
    "    \\omega_n\n",
    "    \\end{bmatrix}$ = \n",
    "    $\\begin{bmatrix}\n",
    "    (y_1|x)\\\\\n",
    "    (y_2|x)\\\\\n",
    "    \\vdots\\\\\n",
    "    (y_n|x)\n",
    "    \\end{bmatrix}$\n",
    "   \n",
    "</center>\n",
    "\n",
    "Resolvendo o sistema, podemos encontrar o vetor de pesos $\\omega$:\n",
    "\n",
    "<center>\n",
    "    $\\omega =  Y^{-1} b$\n",
    "</center>\n",
    "E precificá-lo: \n",
    "<center>\n",
    "    $p_x =\\omega^T p$\n",
    "</center>\n",
    "\n",
    "### Código\n",
    "Vamos supor que recebemos a série de todos os ativos já negociados. \n",
    "\n",
    "A matriz $Y$ pode calculada como:\n",
    "<center>\n",
    "    $Y = V + \\bar{y}\\bar{y}^T$\n",
    "</center>\n",
    "Onde $\\bar{y}$ é o vetor de \"Expected Payoffs\" e V a matriz de Covariância."
   ]
  },
  {
   "cell_type": "code",
   "execution_count": 2,
   "metadata": {},
   "outputs": [],
   "source": [
    "import numpy as np \n",
    "import pandas as pd \n",
    "class StandardProjection():\n",
    "    def __init__(self):\n",
    "        pass\n",
    "    \n",
    "    def fit(self, df):\n",
    "        self.df = df.copy()\n",
    "        self.V = np.array(df.cov())\n",
    "        self.y_bar = np.array((df).mean()).reshape(len(df.columns), 1)\n",
    "        self.Y = self.V + self.y_bar@self.y_bar.T\n",
    "        self.p = np.array(df.iloc[len(df)-1]).reshape(len(df.columns), 1)\n",
    "        \n",
    "    def price(self, x):\n",
    "        aux = self.df.copy()\n",
    "        aux[\"pricing\"] = x\n",
    "        cov = np.array(aux.cov()) #Obtem a Covariancia de \"x\" com todos os outros vetores.\n",
    "        b = cov[: cov.shape[0]-1, cov.shape[1]-1].reshape(cov.shape[1]-1, 1)+aux[\"pricing\"].mean()*self.y_bar\n",
    "        omega = np.linalg.inv(self.Y)@b\n",
    "        return {\"Preço: \": float(omega.T@self.p), \"w: \": omega}"
   ]
  },
  {
   "cell_type": "code",
   "execution_count": 6,
   "metadata": {},
   "outputs": [
    {
     "data": {
      "text/plain": [
       "{'Preço: ': 27.061610509143364,\n",
       " 'w: ': array([[ 0.08781788],\n",
       "        [ 0.07951123],\n",
       "        [ 0.07203052],\n",
       "        [ 0.05064967],\n",
       "        [-0.25755509],\n",
       "        [ 0.10467578],\n",
       "        [-0.31203315],\n",
       "        [-0.08001048],\n",
       "        [ 0.14107868],\n",
       "        [-0.20255175],\n",
       "        [ 0.04839294],\n",
       "        [ 0.08530794],\n",
       "        [ 0.79039804]])}"
      ]
     },
     "execution_count": 6,
     "metadata": {},
     "output_type": "execute_result"
    }
   ],
   "source": [
    "test = StandardProjection()\n",
    "test.fit(df)\n",
    "test.price(x)"
   ]
  },
  {
   "cell_type": "markdown",
   "metadata": {},
   "source": [
    "## Orthogonal Extension\n",
    "Essa forma é uma reorganização da anterior. Não há nenhuma mudança na ideia, apenas uma reinterpretação.\n",
    "Podemos escrever, $p_x$ da seguinte forma:\n",
    "\n",
    "<center>\n",
    "    $p_x =\\textbf{g}^Tb$\n",
    "</center>\n",
    "Onde $\\textbf{g} = Y^{-1}\\textbf{p}$. Então:\n",
    "<center>\n",
    "    $p_x = \\mathbb{E}[\\textbf{g}^T\\textbf{y}x] = (\\textbf{g}^T\\textbf{y}|x) = (g|x)$\n",
    "</center>\n",
    "Isso mostra que o funcional de precificação pode ser extendido para todo o espaço $H$ como um produto interno de um certo vetor $g\\in M$. Mais geralmente, esse vetor é o vetor de minima norma que tem preço igual a $||f||^2$.\n",
    "\n",
    "Então, para encontrarmos $g$, basta resolvermos o seguinte problema de Otimização:\n",
    "<center>\n",
    "  $min_{\\textbf{g}}$ $\\mathbb{E}[\\textbf{g}^Tyy^T\\textbf{g}]$<br>  \n",
    "  $subject$ $to$ $\\textbf{g}^T\\textbf{p} = ||f||^2$\n",
    "</center>\n",
    "\n",
    "Que pode ser reorganizado da seguinte forma:\n",
    "<center>\n",
    "  $min_{\\textbf{g}}$ $\\textbf{g}^T Y \\textbf{g}$<br>  \n",
    "  $subject$ $to$ $\\textbf{g}^T\\textbf{p} = ||f||^2$\n",
    "</center>\n",
    "Para simplificar mais ainda, podemos restringir o preço de $\\textbf{g}$ para ser um, encontrando um vetor $g'$ e depois precificar algo que ja conhecemos para obter a constante de proporcionalidade. Ou seja:\n",
    "\n",
    "<center>\n",
    "  $min_{\\textbf{g'}}$ $\\textbf{g'}^T Y \\textbf{g'}$<br>  \n",
    "  $subject$ $to$ $\\textbf{g'}^T\\textbf{p} = 1$\n",
    "</center>\n",
    "E ai pegamos algo que já conhecemos o preço e ajustamos:\n",
    "<center>\n",
    "    $(\\alpha g'|y_1)= p_1$\n",
    "</center> \n",
    "Onde poderemos encontrar o alpha."
   ]
  },
  {
   "cell_type": "code",
   "execution_count": 36,
   "metadata": {},
   "outputs": [],
   "source": [
    "class OrthogonalExtension:\n",
    "    def __init__():\n",
    "        pass\n",
    "    \n",
    "    def fit():\n",
    "        self.df = df.copy()\n",
    "        self.V = np.array(df.cov())\n",
    "        self.y_bar = np.array((df).mean()).reshape(len(df.columns), 1)\n",
    "        self.Y = self.V + self.y_bar@self.y_bar.T\n",
    "        self.p = np.array(df.iloc[len(df)-1]).reshape(len(df.columns), 1)\n",
    "        \n",
    "        def objective(Y):\n",
    "            return lambda g: float(g.T@Y@g)\n",
    "        \n",
    "        def constraint(p):\n",
    "            return lambda g: g.T@p-1\n",
    "        \n",
    "        g0 = np.random.randn(len(self.df.columns)).reshape(len(self.df.columns), 1)\n",
    "        \n",
    "        con = {\"type\": \"eq\", \"fun\": constraint(np.array([[1], [1]]))}\n",
    "        \n",
    "        sol = minimize(objective(Y), g0, method =\"SLSQP\", constraints = con)\n",
    "        \n",
    "        x = sol.x\n",
    "        \n",
    "    def price():\n",
    "        pass"
   ]
  },
  {
   "cell_type": "code",
   "execution_count": 42,
   "metadata": {},
   "outputs": [
    {
     "data": {
      "text/html": [
       "<div>\n",
       "<style scoped>\n",
       "    .dataframe tbody tr th:only-of-type {\n",
       "        vertical-align: middle;\n",
       "    }\n",
       "\n",
       "    .dataframe tbody tr th {\n",
       "        vertical-align: top;\n",
       "    }\n",
       "\n",
       "    .dataframe thead th {\n",
       "        text-align: right;\n",
       "    }\n",
       "</style>\n",
       "<table border=\"1\" class=\"dataframe\">\n",
       "  <thead>\n",
       "    <tr style=\"text-align: right;\">\n",
       "      <th>Symbols</th>\n",
       "      <th>VALE3.SA</th>\n",
       "      <th>PETR4.SA</th>\n",
       "    </tr>\n",
       "    <tr>\n",
       "      <th>Date</th>\n",
       "      <th></th>\n",
       "      <th></th>\n",
       "    </tr>\n",
       "  </thead>\n",
       "  <tbody>\n",
       "    <tr>\n",
       "      <th>2015-01-02</th>\n",
       "      <td>17.272884</td>\n",
       "      <td>8.683292</td>\n",
       "    </tr>\n",
       "    <tr>\n",
       "      <th>2015-01-05</th>\n",
       "      <td>17.013140</td>\n",
       "      <td>7.941133</td>\n",
       "    </tr>\n",
       "    <tr>\n",
       "      <th>2015-01-06</th>\n",
       "      <td>17.694962</td>\n",
       "      <td>7.681376</td>\n",
       "    </tr>\n",
       "    <tr>\n",
       "      <th>2015-01-07</th>\n",
       "      <td>18.344318</td>\n",
       "      <td>8.043180</td>\n",
       "    </tr>\n",
       "    <tr>\n",
       "      <th>2015-01-08</th>\n",
       "      <td>18.539125</td>\n",
       "      <td>8.562694</td>\n",
       "    </tr>\n",
       "    <tr>\n",
       "      <th>...</th>\n",
       "      <td>...</td>\n",
       "      <td>...</td>\n",
       "    </tr>\n",
       "    <tr>\n",
       "      <th>2021-02-25</th>\n",
       "      <td>95.709999</td>\n",
       "      <td>23.190001</td>\n",
       "    </tr>\n",
       "    <tr>\n",
       "      <th>2021-02-26</th>\n",
       "      <td>94.519997</td>\n",
       "      <td>22.240000</td>\n",
       "    </tr>\n",
       "    <tr>\n",
       "      <th>2021-03-01</th>\n",
       "      <td>98.570000</td>\n",
       "      <td>22.000000</td>\n",
       "    </tr>\n",
       "    <tr>\n",
       "      <th>2021-03-02</th>\n",
       "      <td>101.599998</td>\n",
       "      <td>21.990000</td>\n",
       "    </tr>\n",
       "    <tr>\n",
       "      <th>2021-03-03</th>\n",
       "      <td>101.410004</td>\n",
       "      <td>21.150000</td>\n",
       "    </tr>\n",
       "  </tbody>\n",
       "</table>\n",
       "<p>1527 rows × 2 columns</p>\n",
       "</div>"
      ],
      "text/plain": [
       "Symbols       VALE3.SA   PETR4.SA\n",
       "Date                             \n",
       "2015-01-02   17.272884   8.683292\n",
       "2015-01-05   17.013140   7.941133\n",
       "2015-01-06   17.694962   7.681376\n",
       "2015-01-07   18.344318   8.043180\n",
       "2015-01-08   18.539125   8.562694\n",
       "...                ...        ...\n",
       "2021-02-25   95.709999  23.190001\n",
       "2021-02-26   94.519997  22.240000\n",
       "2021-03-01   98.570000  22.000000\n",
       "2021-03-02  101.599998  21.990000\n",
       "2021-03-03  101.410004  21.150000\n",
       "\n",
       "[1527 rows x 2 columns]"
      ]
     },
     "execution_count": 42,
     "metadata": {},
     "output_type": "execute_result"
    }
   ],
   "source": [
    "df[[\"VALE3.SA\", \"PETR4.SA\"]]"
   ]
  },
  {
   "cell_type": "code",
   "execution_count": 50,
   "metadata": {},
   "outputs": [
    {
     "data": {
      "text/plain": [
       "array([[69.96165862]])"
      ]
     },
     "execution_count": 50,
     "metadata": {},
     "output_type": "execute_result"
    }
   ],
   "source": [
    "np.array(df[[\"VALE3.SA\", \"PETR4.SA\"]].mean()).reshape(2,1).T@np.array([[1], \n",
    "                                        [2]])"
   ]
  },
  {
   "cell_type": "code",
   "execution_count": 33,
   "metadata": {},
   "outputs": [
    {
     "data": {
      "text/plain": [
       "     fun: 0.24000000000000085\n",
       "     jac: array([0.48000004, 0.48000002])\n",
       " message: 'Optimization terminated successfully'\n",
       "    nfev: 10\n",
       "     nit: 3\n",
       "    njev: 3\n",
       "  status: 0\n",
       " success: True\n",
       "       x: array([-1.,  2.])"
      ]
     },
     "execution_count": 33,
     "metadata": {},
     "output_type": "execute_result"
    }
   ],
   "source": [
    "from scipy.optimize import minimize\n",
    "\n",
    "def objective(Y):\n",
    "    return lambda g: float(g.T@Y@g)\n",
    "\n",
    "def constraint(p):\n",
    "    return lambda g: g.T@p-1\n",
    "\n",
    "con ={\"type\": \"eq\", \"fun\": constraint(np.array([[1], [1]]))}\n",
    "\n",
    "g0 = np.array([[0.25], [0.5]])\n",
    "sol = minimize(objective(Y), g0, method =\"SLSQP\", constraints = con)\n",
    "sol"
   ]
  },
  {
   "cell_type": "code",
   "execution_count": 28,
   "metadata": {},
   "outputs": [],
   "source": [
    "ybar= np.array([[1.4], [0.8]])\n",
    "global V \n",
    "V = np.array([[0.04, 0], [0, 0.04]])\n",
    "global Y\n",
    "Y = V + ybar@ybar.T"
   ]
  },
  {
   "cell_type": "code",
   "execution_count": 29,
   "metadata": {},
   "outputs": [
    {
     "data": {
      "text/plain": [
       "array([[2.  , 1.12],\n",
       "       [1.12, 0.68]])"
      ]
     },
     "execution_count": 29,
     "metadata": {},
     "output_type": "execute_result"
    }
   ],
   "source": [
    "Y"
   ]
  },
  {
   "cell_type": "code",
   "execution_count": null,
   "metadata": {},
   "outputs": [],
   "source": []
  }
 ],
 "metadata": {
  "kernelspec": {
   "display_name": "Python 3",
   "language": "python",
   "name": "python3"
  },
  "language_info": {
   "codemirror_mode": {
    "name": "ipython",
    "version": 3
   },
   "file_extension": ".py",
   "mimetype": "text/x-python",
   "name": "python",
   "nbconvert_exporter": "python",
   "pygments_lexer": "ipython3",
   "version": "3.8.5"
  }
 },
 "nbformat": 4,
 "nbformat_minor": 4
}
