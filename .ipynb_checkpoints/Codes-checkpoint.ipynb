{
 "cells": [
  {
   "cell_type": "code",
   "execution_count": 18,
   "metadata": {},
   "outputs": [],
   "source": [
    "import numpy as np \n",
    "from scipy.optimize import minimize\n",
    "import matplotlib.pyplot as plt\n",
    "import edhec_risk_kit as erk\n",
    "import pandas as pd "
   ]
  },
  {
   "cell_type": "code",
   "execution_count": 169,
   "metadata": {},
   "outputs": [],
   "source": [
    "def minimize_vol(target_return, er, cov):\n",
    "    \"\"\"\n",
    "    target_ret -> W\n",
    "    \"\"\"\n",
    "    n = er.shape[0]\n",
    "    init_guess = np.repeat(1/n, n)\n",
    "    #bounds = ((0.0, 1.0),)*n\n",
    "    weights_sum_to_1 = {'type': 'eq',\n",
    "                        'fun': lambda weights: np.sum(weights) - 1\n",
    "    }\n",
    "    return_is_target = {'type': 'eq',\n",
    "                        'args': (er,),\n",
    "                        'fun': lambda weights, er: target_return - erk.portfolio_return(weights,er)\n",
    "    }\n",
    "    \n",
    "    results = minimize(erk.portfolio_vol, init_guess,\n",
    "                       args=(cov,), method=\"SLSQP\",\n",
    "                       options={\"disp\":False},\n",
    "                       constraints=(return_is_target, weights_sum_to_1)\n",
    "                      )\n",
    "    return results.x\n",
    "\n",
    "def optimal_weights(n_points, er, cov):\n",
    "    \"\"\"\n",
    "    -> list of weights to run the optimizer on to minimize the vol\n",
    "    \"\"\"\n",
    "    target_rs = np.linspace(0, er.max()+0.2, n_points)\n",
    "    weights = [minimize_vol(target_return, er, cov) for target_return in target_rs ] \n",
    "    return weights\n",
    "\n",
    "def norm(w, er, cov):\n",
    "    return np.sqrt(erk.portfolio_return(w, er)**2 + erk.portfolio_vol(w, cov)**2) \n",
    "    \n",
    "\n",
    "\n",
    "\n",
    "\n",
    "\n",
    "def minimize_norm(er, cov):    \n",
    "    n = er.shape[0]\n",
    "    init_guess = np.repeat(1/n, n)\n",
    "    \n",
    "    weights_sum_to_1 = {'type': 'eq',\n",
    "                        'fun': lambda weights: np.sum(weights) - 1\n",
    "    }\n",
    "    results = minimize(norm, init_guess,\n",
    "                       args=(er, cov,), method=\"SLSQP\",\n",
    "                       options={\"disp\":False},\n",
    "                       constraints=(weights_sum_to_1)\n",
    "                      )\n",
    "    return results.x\n",
    "\n",
    "\n",
    "def  plot_ef(n_points, er, cov, style = \".-\"):\n",
    "    \"\"\"\n",
    "    Plots the n-asset efficient frontier\n",
    "    \"\"\"\n",
    "    mn_w = minimize_norm(er, cov)\n",
    "    vol_mn = float(erk.portfolio_vol(mn_w, cov))\n",
    "    er_mn = float(erk.portfolio_return(mn_w, er))\n",
    "    \n",
    "    r_0 = (er_mn**2 + vol_mn**2)/er_mn\n",
    "    \n",
    "    x = np.linspace(0, 0.6)\n",
    "    \n",
    "    y = -vol_mn/er_mn*x +r_0\n",
    "    \n",
    "    weights = optimal_weights(n_points, er, cov)\n",
    "    rets = [float(erk.portfolio_return(w, er)) for w in weights]\n",
    "    vols = [float(erk.portfolio_vol(w, cov)) for w in weights]\n",
    "    ef = pd.DataFrame({\n",
    "    \"Returns\": rets, \"Volatility\": vols\n",
    "    })\n",
    "    \n",
    "    ax = ef.plot.line(x=\"Volatility\", y=\"Returns\",style = style, color = \"red\", figsize=(6, 6))\n",
    "    plt.ylim(0, 1.6)\n",
    "    plt.xlim(0, 1.6)\n",
    "    ax.plot(x, y, linestyle = \"--\")\n",
    "    ax.arrow(0, 0, vol_mn, er_mn, width =0.01, length_includes_head=True)\n",
    "    return ax"
   ]
  },
  {
   "cell_type": "code",
   "execution_count": 172,
   "metadata": {},
   "outputs": [
    {
     "data": {
      "image/png": "[encoded data removed]",
      "text/plain": [
       "<Figure size 432x432 with 1 Axes>"
      ]
     },
     "metadata": {
      "needs_background": "light"
     },
     "output_type": "display_data"
    }
   ],
   "source": [
    "er = np.array([[1.4], [0.8]])\n",
    "cov = np.array([[0.04, 0], [0, 0.04]])\n",
    "prices = np.array([[1], [1]])\n",
    "\n",
    "\n",
    "ax = plot_ef(20, np.array([[1.4], [0.8]]), np.array([[0.04, 0], [0, 0.04]]))\n",
    "ax.set_ylabel(\"Returns\")\n",
    "plt.savefig(\"efficient_fronter.jpg\")"
   ]
  },
  {
   "cell_type": "code",
   "execution_count": 156,
   "metadata": {},
   "outputs": [
    {
     "data": {
      "text/plain": [
       "1"
      ]
     },
     "execution_count": 156,
     "metadata": {},
     "output_type": "execute_result"
    }
   ],
   "source": [
    "np.sum()"
   ]
  },
  {
   "cell_type": "code",
   "execution_count": 38,
   "metadata": {},
   "outputs": [
    {
     "data": {
      "text/plain": [
       "array([-0.99996993,  1.99996993])"
      ]
     },
     "execution_count": 38,
     "metadata": {},
     "output_type": "execute_result"
    }
   ],
   "source": [
    "mn_w = minimize_norm(np.array([[1.4], [0.8]]), np.array([[0.04, 0], [0, 0.04]]))"
   ]
  },
  {
   "cell_type": "code",
   "execution_count": 121,
   "metadata": {},
   "outputs": [
    {
     "data": {
      "text/plain": [
       "<matplotlib.patches.FancyArrow at 0x232f0e95af0>"
      ]
     },
     "execution_count": 121,
     "metadata": {},
     "output_type": "execute_result"
    },
    {
     "data": {
      "image/png": "[encoded data removed]",
      "text/plain": [
       "<Figure size 432x288 with 1 Axes>"
      ]
     },
     "metadata": {
      "needs_background": "light"
     },
     "output_type": "display_data"
    }
   ],
   "source": [
    "plt.arrow(0, 0, 1, 1)"
   ]
  },
  {
   "cell_type": "code",
   "execution_count": null,
   "metadata": {},
   "outputs": [],
   "source": []
  }
 ],
 "metadata": {
  "kernelspec": {
   "display_name": "Python 3",
   "language": "python",
   "name": "python3"
  },
  "language_info": {
   "codemirror_mode": {
    "name": "ipython",
    "version": 3
   },
   "file_extension": ".py",
   "mimetype": "text/x-python",
   "name": "python",
   "nbconvert_exporter": "python",
   "pygments_lexer": "ipython3",
   "version": "3.8.5"
  }
 },
 "nbformat": 4,
 "nbformat_minor": 4
}
