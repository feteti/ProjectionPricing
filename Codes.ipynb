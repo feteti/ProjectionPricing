{
 "cells": [
  {
   "cell_type": "code",
   "execution_count": 10,
   "metadata": {},
   "outputs": [],
   "source": [
    "import numpy as np \n",
    "from scipy.optimize import minimize\n",
    "import matplotlib.pyplot as plt\n",
    "import pandas as pd "
   ]
  },
  {
   "cell_type": "code",
   "execution_count": 91,
   "metadata": {},
   "outputs": [],
   "source": [
    "V = np.array([[0.04, 0], [0, 0.04]])\n",
    "p = np.array([[1], [1]])\n",
    "y_bar = np.array([[1.4], [.8]])\n",
    "R_f = 1"
   ]
  },
  {
   "cell_type": "markdown",
   "metadata": {},
   "source": [
    "# Funções Básicas"
   ]
  },
  {
   "cell_type": "code",
   "execution_count": 92,
   "metadata": {},
   "outputs": [],
   "source": [
    "import numpy as np\n",
    "from scipy.optimize import minimize\n",
    "\n",
    "def portfolio_return(w, er):\n",
    "    \"\"\"\n",
    "    Dado o portfolio e o retorno esperado, \n",
    "    calcula o retorno do portfolio. \n",
    "    \n",
    "        Parãmetros: \n",
    "        w (np.array nx1): portfolio\n",
    "        er (np.array nx1): vetor de retornos esperados\n",
    "        \n",
    "        Retorna \n",
    "        mu(np.array 1x1): Retorno do portfolio\n",
    "    \n",
    "    \"\"\"\n",
    "    mu = w.T@er\n",
    "    return mu\n",
    "\n",
    "def portfolio_volatiliy(w, cov):\n",
    "    \"\"\"\n",
    "    Dado o portfolio e a matriz de covariância, \n",
    "    calcula a volatilidade do portfolio. \n",
    "    \n",
    "        Parãmetros: \n",
    "        w (np.array nx1): portfolio\n",
    "        cov(np.array nxn): matriz de covariancia\n",
    "        \n",
    "        Retorna \n",
    "        sigma(np.array 1x1): Volatilidade do Portfolio\n",
    "    \n",
    "    \"\"\"\n",
    "\n",
    "    sigma = np.sqrt(w.T@cov@w)\n",
    "    return sigma\n",
    "\n",
    "def portfolio_price(w, p):\n",
    "    \"\"\"\n",
    "    Dado o portfolio e o vetor de preços, \n",
    "    calcula o preço do portfolio. \n",
    "    \n",
    "        Parãmetros: \n",
    "        w (np.array nx1): portfolio\n",
    "        p(np.array nx1): vetor de preços\n",
    "        \n",
    "        Retorna \n",
    "        p_x(np.array 1x1): preço do ativo\n",
    "    \n",
    "    \"\"\"\n",
    "    return w.T@p\n",
    "    \n",
    "    \n",
    "def norm(w, er, cov):\n",
    "    \"\"\"\n",
    "    Dado o portfolio, a matriz de covariância e o retorno esperado\n",
    "    calcula ||x|| = sqrt(E[x^2]) = sqrt(E[x]^2+ vol(x)^2)  \n",
    "    \n",
    "        Parãmetros: \n",
    "        w (np.array nx1): portfolio\n",
    "        er (np.array nx1): vetor de retornos esperados\n",
    "        cov(np.array nx1): matriz de covariancia\n",
    "        \n",
    "        Retorna \n",
    "        norm(np.array 1x1): norma do Portfolio\n",
    "    \n",
    "    \"\"\"\n",
    "    norm = np.sqrt((portfolio_return(w, er)**2+portfolio_volatiliy(w, cov)**2))\n",
    "    return norm"
   ]
  },
  {
   "cell_type": "markdown",
   "metadata": {},
   "source": [
    "# Encontrando a fronteira eficiente"
   ]
  },
  {
   "cell_type": "code",
   "execution_count": 93,
   "metadata": {},
   "outputs": [],
   "source": [
    "def global_minimal_volatility(cov, p):\n",
    "    n = er.shape[0]\n",
    "    init_guess = np.repeat(1/n, n).reshape(n, 1)\n",
    "    \n",
    "    #Constraints\n",
    "    prices_sum_to_1 = {'type': 'eq',\n",
    "                        'fun': lambda w: w.T@p - 1\n",
    "    }\n",
    "   \n",
    "    results = minimize(portfolio_volatiliy, init_guess,\n",
    "                       args=(cov,), method=\"SLSQP\",\n",
    "                       options={\"disp\":False},\n",
    "                       constraints=(prices_sum_to_1)\n",
    "                      )\n",
    "    return results.x.reshape(n,1)\n",
    "    \n",
    "\n",
    "def minimize_vol(er, cov, mu , p):\n",
    "    n = er.shape[0]\n",
    "    init_guess = np.repeat(1/n, n).reshape(n, 1)\n",
    "    \n",
    "    #Constraints\n",
    "    prices_sum_to_1 = {'type': 'eq',\n",
    "                        'fun': lambda w: w.T@p - 1\n",
    "    }\n",
    "    \n",
    "    return_constraint = {'type': 'eq',\n",
    "                         'fun': lambda w: er.T@w - mu\n",
    "    }\n",
    "\n",
    "   \n",
    "    results = minimize(portfolio_volatiliy, init_guess,\n",
    "                       args=(cov,), method=\"SLSQP\",\n",
    "                       options={\"disp\":False},\n",
    "                       constraints=(prices_sum_to_1, return_constraint)\n",
    "                      )\n",
    "    return results.x.reshape(n,1)"
   ]
  },
  {
   "cell_type": "code",
   "execution_count": 102,
   "metadata": {},
   "outputs": [],
   "source": [
    "def plot_ef(er, cov, p, n_points):\n",
    "    ef_returns = np.linspace(er.min(), 2.5, n_points)\n",
    "    weights = [minimize_vol(er, cov, mu, p) for mu in ef_returns]\n",
    "    ef_volatility = [float(portfolio_volatiliy(w, cov)) for w in weights]\n",
    "    \n",
    "    ef = pd.DataFrame({\n",
    "    \"Retornos\": ef_returns, \"Volatilidade\": ef_volatility\n",
    "    })\n",
    "    return ef.plot.line(x=\"Volatilidade\", y=\"Retornos\", color = \"red\", figsize=(6, 6), linewidth=\"0.5\")"
   ]
  },
  {
   "cell_type": "code",
   "execution_count": 103,
   "metadata": {},
   "outputs": [
    {
     "data": {
      "text/plain": [
       "<AxesSubplot:xlabel='Volatilidade'>"
      ]
     },
     "execution_count": 103,
     "metadata": {},
     "output_type": "execute_result"
    },
    {
     "data": {
      "image/png": "[encoded data removed]",
      "text/plain": [
       "<Figure size 432x432 with 1 Axes>"
      ]
     },
     "metadata": {
      "needs_background": "light"
     },
     "output_type": "display_data"
    }
   ],
   "source": [
    "plot_ef(y_bar, V, p, 20)"
   ]
  },
  {
   "cell_type": "markdown",
   "metadata": {},
   "source": [
    "# Portfólio de Mínima Norma "
   ]
  },
  {
   "cell_type": "code",
   "execution_count": 104,
   "metadata": {},
   "outputs": [],
   "source": [
    "def minimize_norm(er, cov, p):\n",
    "    \"\"\"\n",
    "    Resolve o problema de minimizar a norma restrito ao preço ser igual a 1. Escala \n",
    "    o vetor para encontrar o vetor de precificação geral(alpha). \n",
    "    \n",
    "        Parãmetros: \n",
    "        w (np.array nx1): portfolio\n",
    "        er (np.array nx1): vetor de retornos esperados\n",
    "        cov(np.array nx1): matriz de covariancia\n",
    "        \n",
    "        Retorna :\n",
    "        pricing(np.array nx1): Vetor g de Precificação\n",
    "    \n",
    "    \"\"\"\n",
    "    n = er.shape[0]\n",
    "    init_guess = np.repeat(1/n, n)\n",
    "    \n",
    "    prices_sum_to_1 = {'type': 'eq',\n",
    "                        'fun': lambda w: w.T@p - 1\n",
    "    }\n",
    "    results = minimize(norm, init_guess,\n",
    "                       args=(er, cov,), method=\"SLSQP\",\n",
    "                       options={\"disp\":False},\n",
    "                       constraints=(prices_sum_to_1)\n",
    "                      )\n",
    "    \n",
    "    \n",
    "    min_norm_vector = results.x.reshape(n, 1)\n",
    "    x = (V + y_bar@y_bar.T)[0, :]\n",
    "\n",
    "    alpha = p[0]/np.sum(x@min_norm_vector)  # Encontrando o Fator de Escala.\n",
    "    pricing_vector = alpha*min_norm_vector\n",
    "    return {\"Pricing Vector\": pricing_vector, \"Minimal Norm Vector\": min_norm_vector}"
   ]
  },
  {
   "cell_type": "markdown",
   "metadata": {},
   "source": [
    "# Optimal Portfolio Formulation "
   ]
  },
  {
   "cell_type": "code",
   "execution_count": 105,
   "metadata": {},
   "outputs": [],
   "source": [
    "def minus_risk_price(w, er, R_f, p, cov):\n",
    "    \"\"\"\n",
    "    Dado o portfolio calcula o preço de risco. \n",
    "    \n",
    "        Parâmetros: \n",
    "        w (np.array nx1): portfolio\n",
    "        er (np.array nx1): vetor de retornos esperados\n",
    "        cov(np.array nx1): matriz de covariancia\n",
    "        p(np.array nx1): vetor de preços\n",
    "        R_f(float): taxa livre de risco\n",
    "        \n",
    "        Retorna \n",
    "        sr(np.array 1x1): Retorno do portfolio\n",
    "    \"\"\"\n",
    "    sr = (w.T@(er - R_f*p))/portfolio_volatiliy(w, cov)\n",
    "    return -1*sr\n",
    "\n",
    "def maximize_risk_price(er, cov, p, R_f):\n",
    "    \"\"\"\n",
    "    Dado o portfolio calcula o portfólio que apresenta o maior preço de risco \n",
    "    restrito ao preço ser igual a um. \n",
    "    \n",
    "        Parâmetros: \n",
    "        w (np.array nx1): portfolio\n",
    "        er (np.array nx1): vetor de retornos esperados\n",
    "        cov(np.array nx1): matriz de covariancia\n",
    "        p(np.array nx1): vetor de preços\n",
    "        R_f(float): taxa livre de risco\n",
    "        \n",
    "        Retorna \n",
    "        sr(np.array 1x1): Retorno do portfolio\n",
    "    \"\"\"\n",
    "    n = er.shape[0]\n",
    "    init_guess = np.repeat(1/n, n).reshape(n,1)\n",
    "    prices_sum_to_1 = {'type': 'eq',\n",
    "                        'fun': lambda w: w.T@p - 1\n",
    "    }\n",
    "    results = minimize(minus_risk_price, init_guess,\n",
    "                       args=(er, R_f, p, cov,), method=\"SLSQP\",\n",
    "                       options={\"disp\":False},\n",
    "                       constraints=(prices_sum_to_1)\n",
    "                      )\n",
    "    vetor = results.x.reshape(n, 1)\n",
    "\n",
    "    return vetor"
   ]
  },
  {
   "cell_type": "code",
   "execution_count": 106,
   "metadata": {},
   "outputs": [
    {
     "data": {
      "text/plain": [
       "[<matplotlib.lines.Line2D at 0x2730196a7f0>]"
      ]
     },
     "execution_count": 106,
     "metadata": {},
     "output_type": "execute_result"
    },
    {
     "data": {
      "image/png": "[encoded data removed]",
      "text/plain": [
       "<Figure size 432x432 with 1 Axes>"
      ]
     },
     "metadata": {
      "needs_background": "light"
     },
     "output_type": "display_data"
    }
   ],
   "source": [
    "w_t = maximize_risk_price(y_bar, V, p, R_f)\n",
    "R_t = float(portfolio_return(w_t, y_bar))\n",
    "sigma_t =float(portfolio_volatiliy(w_t, V))\n",
    "\n",
    "x = np.linspace(0, float(sigma_t))\n",
    "y = (R_t - R_f)/sigma_t*x +R_f\n",
    "\n",
    "ax = plot_ef(y_bar, V, p, 100)\n",
    "\n",
    "ax.plot(x, y)"
   ]
  },
  {
   "cell_type": "code",
   "execution_count": 76,
   "metadata": {},
   "outputs": [
    {
     "data": {
      "text/plain": [
       "array([[ 2.00010978],\n",
       "       [-1.00010978]])"
      ]
     },
     "execution_count": 76,
     "metadata": {},
     "output_type": "execute_result"
    }
   ],
   "source": [
    "w_t"
   ]
  },
  {
   "cell_type": "code",
   "execution_count": 43,
   "metadata": {},
   "outputs": [
    {
     "data": {
      "text/plain": [
       "array([1.        , 1.02040951, 1.04081902, 1.06122852, 1.08163803,\n",
       "       1.10204754, 1.12245705, 1.14286655, 1.16327606, 1.18368557,\n",
       "       1.20409508, 1.22450458, 1.24491409, 1.2653236 , 1.28573311,\n",
       "       1.30614261, 1.32655212, 1.34696163, 1.36737114, 1.38778064,\n",
       "       1.40819015, 1.42859966, 1.44900917, 1.46941867, 1.48982818,\n",
       "       1.51023769, 1.5306472 , 1.5510567 , 1.57146621, 1.59187572,\n",
       "       1.61228523, 1.63269473, 1.65310424, 1.67351375, 1.69392326,\n",
       "       1.71433276, 1.73474227, 1.75515178, 1.77556129, 1.79597079,\n",
       "       1.8163803 , 1.83678981, 1.85719932, 1.87760882, 1.89801833,\n",
       "       1.91842784, 1.93883735, 1.95924685, 1.97965636, 2.00006587])"
      ]
     },
     "execution_count": 43,
     "metadata": {},
     "output_type": "execute_result"
    }
   ],
   "source": [
    "y"
   ]
  },
  {
   "cell_type": "code",
   "execution_count": null,
   "metadata": {},
   "outputs": [],
   "source": []
  }
 ],
 "metadata": {
  "kernelspec": {
   "display_name": "Python 3",
   "language": "python",
   "name": "python3"
  },
  "language_info": {
   "codemirror_mode": {
    "name": "ipython",
    "version": 3
   },
   "file_extension": ".py",
   "mimetype": "text/x-python",
   "name": "python",
   "nbconvert_exporter": "python",
   "pygments_lexer": "ipython3",
   "version": "3.8.5"
  }
 },
 "nbformat": 4,
 "nbformat_minor": 4
}
